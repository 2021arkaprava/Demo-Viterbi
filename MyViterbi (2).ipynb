{
 "cells": [
  {
   "cell_type": "markdown",
   "id": "77d59d38",
   "metadata": {},
   "source": [
    "# A simple demonstration of Viterbi Algorithm"
   ]
  },
  {
   "cell_type": "code",
   "execution_count": 7,
   "id": "7ce14760",
   "metadata": {},
   "outputs": [],
   "source": [
    "import numpy as np\n",
    "\n",
    "def viterbi(transition_probs, states, emissions, initial_probs, emission_probs, sequence):\n",
    "    emission_dict = dict(zip(emissions,list(range(len(emissions)))))\n",
    "    emission_seq = []\n",
    "    for i in range(len(sequence)):\n",
    "        emission_seq = emission_seq+[emission_dict[sequence[i]]]\n",
    "    \n",
    "    total_cost = []  # This stores the total cost incurred to reach all possible states at every instant.\n",
    "    \n",
    "    cost = np.zeros(states.shape)\n",
    "    \n",
    "    for state in range(states.shape[0]):\n",
    "        cost[state] = priors[state]*B[state, emission_seq[0]]\n",
    "\n",
    "    total_cost = np.array([cost])\n",
    "    print\n",
    "    for i in range(1,len(sequence)):\n",
    "        previous_prob = cost\n",
    "        p=np.zeros((len(HS),len(HS)))\n",
    "        for prev_state_index in range(len(HS)):                # prev_state_index indexes for the possible states at time instant n\n",
    "            for current_state_index in range(len(HS)):          # state indexes possible states at time instant n-1\n",
    "                p[current_state_index,prev_state_index] = previous_prob[current_state_index]*A[current_state_index,prev_state_index]*B[prev_state_index,emission_seq[i]]\n",
    "        #print(p)\n",
    "        cost = np.amax(p,axis=0)                  # In this step, we store only that transition which has the high probability for every possible state at instant n\n",
    "        #print(p.shape)\n",
    "        #cost[col]=np.amax(p)\n",
    "        total_cost = np.append(total_cost,[cost],axis=0) # Here we are storing the only those paths which give the max. cost to reach every possible state at the nth time instant\n",
    "    print(total_cost)\n",
    "    prediction = np.zeros(len(sequence))\n",
    "    pred_seq = []\n",
    "    for i in range(total_cost.shape[0]):\n",
    "        prediction[i] = np.argmax(total_cost[i,:])\n",
    "        pred_seq.append(HS[int(prediction[i])])\n",
    "    \n",
    "    return pred_seq"
   ]
  },
  {
   "cell_type": "markdown",
   "id": "fdb8e223",
   "metadata": {},
   "source": [
    "            Here the problem is to predict the season based on the observed temperature. For sake of simplicity we're taking temperature as discrerte random variable taking values only from the set {'Very Cold','Cold','Average', 'Hot', 'Very Hot'}. Elements of the observation sets are x_n And our hidden states or the latent variable is of the set {'Spring','Summer','Monsoon', 'Autumn', 'Pre-Winter', 'Winter'}, traversed by z_n = i, i ranging from 0-5. \n",
    "            Now first we need to define our transition matrix i.e. probability of getting next hidden state from current hidden state:\n",
    "\n",
    "|      A         | Spring        |   Summer   |  Monsoon  |  Autumn   |  Pre-winter  |  Winter   | \n",
    "| -------------- | ------------- |  --------- | --------- | --------- | ---------    | --------- |\n",
    "| **Spring**     |      0.3      |      0.4   |      0.1  |      0.09 |      0.06    |      0.05 |\n",
    "| **Summer**     |        0.1    |      0.4   |      0.3  |      0.15 |      0.03    |      0.02 |\n",
    "| **Monsoon**    |      0.1      |      0.25  |      0.3  |      0.28 |      0.05    |      0.02 |\n",
    "| **Autumn**     |        0.1    |      0.05  |      0.2  |      0.3  |      0.25    |      0.1  |\n",
    "| **Pre-winter** |      0.15     |      0.02  |      0.1  |      0.2  |      0.28    |      0.25 |\n",
    "| **Winter**     |        0.35   |      0.2   |      0.1  |      0.02 |      0.03    |      0.3  |\n",
    "\n",
    "            And the prior probabilities of states i.e. the probability of the season are:\n",
    "            \n",
    "| Spring        |   Summer   |  Monsoon  |  Autumn   |  Pre-winter  |  Winter   | \n",
    "| ------------- |  --------- | --------- | --------- | ---------    | --------- |\n",
    "|      0.1      |      0.25  |      0.25 |      0.1  |      0.1     |      0.2  |\n",
    "\n",
    "\n",
    "            And finally the emission probability matrix is:\n",
    "    \n",
    "|      A         | Very Cold     |  Cold      |  Average  |  Hot      |  Very Hot    |\n",
    "| -------------- | ------------- |  --------- | --------- | --------- | ---------    |\n",
    "| **Spring**     |      0.05     |      0.25  |      0.4  |      0.25 |      0.05    |\n",
    "| **Summer**     |        0.01   |      0.02  |      0.17 |      0.5  |      0.3     |     \n",
    "| **Monsoon**    |      0.08     |      0.25  |      0.4  |      0.17 |      0.1     |     \n",
    "| **Autumn**     |        0.07   |      0.25  |      0.45 |      0.15 |      0.08    |      \n",
    "| **Pre-winter** |      0.2      |      0.35  |      0.3  |      0.1  |      0.05    |    \n",
    "| **Winter**     |        0.55   |      0.32  |      0.1  |      0.02 |      0.01    |\n",
    "\n",
    "\n",
    "            Now we'd use our Viterbi method written above to predict the Season sequence based on the observed temperature."
   ]
  },
  {
   "cell_type": "code",
   "execution_count": 8,
   "id": "a2852476",
   "metadata": {},
   "outputs": [
    {
     "name": "stdout",
     "output_type": "stream",
     "text": [
      "[[5.00000000e-03 7.50000000e-02 2.50000000e-02 8.00000000e-03\n",
      "  5.00000000e-03 2.00000000e-03]\n",
      " [3.00000000e-03 5.10000000e-03 9.00000000e-03 5.06250000e-03\n",
      "  6.75000000e-04 1.50000000e-04]\n",
      " [4.50000000e-05 2.25000000e-05 2.16000000e-04 1.76400000e-04\n",
      "  2.53125000e-04 2.78437500e-04]\n",
      " [2.43632813e-05 2.78437500e-05 1.10160000e-05 9.07200000e-06\n",
      "  7.08750000e-06 1.67062500e-06]\n",
      " [1.82724609e-06 2.22750000e-07 2.08828125e-06 1.04414063e-06\n",
      "  7.93800000e-07 5.67000000e-07]\n",
      " [2.19269531e-07 1.24252734e-07 2.50593750e-07 2.63123438e-07\n",
      "  7.83105469e-08 1.98450000e-08]\n",
      " [3.28904297e-09 2.63123438e-08 7.51781250e-09 6.31496250e-09\n",
      "  3.28904297e-09 2.63123438e-10]\n",
      " [1.31561719e-10 1.05249375e-10 6.31496250e-10 2.76279609e-10\n",
      "  3.15748125e-10 4.52243408e-10]\n",
      " [3.95712982e-11 7.89370313e-11 3.22063088e-11 2.65228425e-11\n",
      "  8.84094750e-12 2.71346045e-12]\n",
      " [4.74855579e-12 5.36771813e-12 9.47244375e-12 5.32824961e-12\n",
      "  1.98921319e-12 2.65228425e-13]]\n",
      "['Summer', 'Monsoon', 'Winter', 'Summer', 'Monsoon', 'Autumn', 'Summer', 'Monsoon', 'Summer', 'Monsoon']\n"
     ]
    }
   ],
   "source": [
    "if __name__ == \"__main__\":\n",
    "    Observed_sequence = ['Very Hot','Average','Very Cold','Hot','Cold','Average','Very Hot','Very Cold', 'Hot', 'Average']\n",
    "    Obs = ['Very Cold','Cold','Average', 'Hot', 'Very Hot']\n",
    "    A = np.array([\n",
    "                [0.3, 0.4, 0.1, 0.09, 0.06, 0.05],\n",
    "                [0.1, 0.4, 0.3, 0.15, 0.03, 0.02],\n",
    "                [0.1, 0.25, 0.3, 0.28, 0.05, 0.02],\n",
    "                [0.1, 0.05, 0.2, 0.3, 0.25, 0.1],\n",
    "                [0.15, 0.02, 0.1, 0.2, 0.28, 0.25],\n",
    "                [0.35, 0.2, 0.1, 0.02, 0.03, 0.3]\n",
    "    ])\n",
    "    priors = [0.1, 0.25, 0.25, 0.1, 0.1, 0.2]\n",
    "    B = np.array([\n",
    "                [0.05, 0.25, 0.4, 0.25, 0.05],\n",
    "                [0.01, 0.02, 0.17, 0.5, 0.3],\n",
    "                [0.08, 0.25, 0.4, 0.17, 0.1],\n",
    "                [0.07, 0.25, 0.45, 0.15, 0.08],\n",
    "                [0.2, 0.35, 0.3, 0.1, 0.05],\n",
    "                [0.55, 0.32, 0.1, 0.02, 0.01]\n",
    "    ])\n",
    "    HS = ['Spring','Summer','Monsoon', 'Autumn', 'Pre-Winter', 'Winter']\n",
    "    \n",
    "    P = viterbi(A, np.array(HS), Obs, priors, B, Observed_sequence)\n",
    "    print(P)"
   ]
  },
  {
   "cell_type": "markdown",
   "id": "058e9c28",
   "metadata": {},
   "source": [
    "               The output matrix P is the cost associated in each step of the Viterbi Algorithm. To determine the final output sequence we simply trace the paths having the highest probability in each step."
   ]
  },
  {
   "cell_type": "code",
   "execution_count": null,
   "id": "d501a78a",
   "metadata": {},
   "outputs": [],
   "source": []
  }
 ],
 "metadata": {
  "kernelspec": {
   "display_name": "Python 3 (ipykernel)",
   "language": "python",
   "name": "python3"
  },
  "language_info": {
   "codemirror_mode": {
    "name": "ipython",
    "version": 3
   },
   "file_extension": ".py",
   "mimetype": "text/x-python",
   "name": "python",
   "nbconvert_exporter": "python",
   "pygments_lexer": "ipython3",
   "version": "3.8.8"
  }
 },
 "nbformat": 4,
 "nbformat_minor": 5
}
